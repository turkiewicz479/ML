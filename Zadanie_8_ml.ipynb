{
 "cells": [
  {
   "cell_type": "code",
   "execution_count": 7,
   "id": "74f3b349",
   "metadata": {},
   "outputs": [
    {
     "name": "stderr",
     "output_type": "stream",
     "text": [
      "c:\\Users\\Szymon\\AppData\\Local\\Programs\\Python\\Python39\\lib\\site-packages\\sklearn\\ensemble\\_weight_boosting.py:519: FutureWarning: The parameter 'algorithm' is deprecated in 1.6 and has no effect. It will be removed in version 1.8.\n",
      "  warnings.warn(\n",
      "c:\\Users\\Szymon\\AppData\\Local\\Programs\\Python\\Python39\\lib\\site-packages\\sklearn\\ensemble\\_weight_boosting.py:519: FutureWarning: The parameter 'algorithm' is deprecated in 1.6 and has no effect. It will be removed in version 1.8.\n",
      "  warnings.warn(\n",
      "c:\\Users\\Szymon\\AppData\\Local\\Programs\\Python\\Python39\\lib\\site-packages\\sklearn\\ensemble\\_weight_boosting.py:519: FutureWarning: The parameter 'algorithm' is deprecated in 1.6 and has no effect. It will be removed in version 1.8.\n",
      "  warnings.warn(\n",
      "c:\\Users\\Szymon\\AppData\\Local\\Programs\\Python\\Python39\\lib\\site-packages\\sklearn\\ensemble\\_weight_boosting.py:519: FutureWarning: The parameter 'algorithm' is deprecated in 1.6 and has no effect. It will be removed in version 1.8.\n",
      "  warnings.warn(\n",
      "c:\\Users\\Szymon\\AppData\\Local\\Programs\\Python\\Python39\\lib\\site-packages\\sklearn\\ensemble\\_weight_boosting.py:519: FutureWarning: The parameter 'algorithm' is deprecated in 1.6 and has no effect. It will be removed in version 1.8.\n",
      "  warnings.warn(\n"
     ]
    },
    {
     "name": "stdout",
     "output_type": "stream",
     "text": [
      "Decision Tree: 0.8827\n",
      "Bagging: 0.9276\n",
      "AdaBoost: 0.9278\n",
      "Gradient Boosting: 0.9551\n"
     ]
    }
   ],
   "source": [
    "import numpy as np\n",
    "from sklearn.datasets import load_wine\n",
    "from sklearn.tree import DecisionTreeClassifier\n",
    "from sklearn.ensemble import BaggingClassifier, AdaBoostClassifier, GradientBoostingClassifier\n",
    "from sklearn.model_selection import cross_val_score\n",
    "import matplotlib.pyplot as plt\n",
    "\n",
    "# Load data\n",
    "data = load_wine()\n",
    "X, y = data.data, data.target\n",
    "\n",
    "random_state = 42\n",
    "n_estimators = 100\n",
    "\n",
    "# 1. Decision Tree\n",
    "dt = DecisionTreeClassifier(min_samples_leaf=3, random_state=random_state)\n",
    "dt_score = cross_val_score(dt, X, y, cv=5).mean()\n",
    "\n",
    "# 2. Bagging with Decision Tree\n",
    "bag = BaggingClassifier(\n",
    "    estimator=DecisionTreeClassifier(min_samples_leaf=3, random_state=random_state),\n",
    "    n_estimators=n_estimators,\n",
    "    random_state=random_state\n",
    ")\n",
    "bag_score = cross_val_score(bag, X, y, cv=5).mean()\n",
    "\n",
    "\n",
    "# 3. AdaBoost with Decision Tree (depth=1, SAMME)\n",
    "ada = AdaBoostClassifier(\n",
    "    estimator=DecisionTreeClassifier(max_depth=1, min_samples_leaf=3, random_state=random_state),\n",
    "    n_estimators=n_estimators,\n",
    "    algorithm='SAMME',\n",
    "    random_state=random_state\n",
    ")\n",
    "ada_score = cross_val_score(ada, X, y, cv=5).mean()\n",
    "\n",
    "# 4. Gradient Boosting (depth=1, learning_rate=1.0, subsample=0.5)\n",
    "gb = GradientBoostingClassifier(\n",
    "    max_depth=1,\n",
    "    min_samples_leaf=3,\n",
    "    n_estimators=n_estimators,\n",
    "    learning_rate=1.0,\n",
    "    subsample=0.5,\n",
    "    random_state=random_state\n",
    ")\n",
    "gb_score = cross_val_score(gb, X, y, cv=5).mean()\n",
    "\n",
    "print(f\"Decision Tree: {dt_score:.4f}\")\n",
    "print(f\"Bagging: {bag_score:.4f}\")\n",
    "print(f\"AdaBoost: {ada_score:.4f}\")\n",
    "print(f\"Gradient Boosting: {gb_score:.4f}\")\n",
    "\n",
    "\n",
    "\n"
   ]
  },
  {
   "cell_type": "code",
   "execution_count": 8,
   "id": "42b28f34",
   "metadata": {},
   "outputs": [
    {
     "data": {
      "text/plain": [
       "Text(0, 0.5, 'Średnia skuteczność (accuracy)')"
      ]
     },
     "execution_count": 8,
     "metadata": {},
     "output_type": "execute_result"
    },
    {
     "data": {
      "image/png": "[encoded data removed]",
      "text/plain": [
       "<Figure size 800x500 with 1 Axes>"
      ]
     },
     "metadata": {},
     "output_type": "display_data"
    }
   ],
   "source": [
    "# Nazwy klasyfikatorów i ich wyniki\n",
    "classifiers = ['Decision Tree', 'Bagging', 'AdaBoost', 'Gradient Boosting']\n",
    "scores = [dt_score, bag_score, ada_score, gb_score]\n",
    "\n",
    "plt.figure(figsize=(8, 5))\n",
    "bars = plt.bar(classifiers, scores, color=['skyblue', 'orange', 'green', 'red'])\n",
    "plt.ylim(0.5, 1.0)\n",
    "plt.ylabel('Średnia skuteczność (accuracy)')"
   ]
  }
 ],
 "metadata": {
  "kernelspec": {
   "display_name": "Python 3",
   "language": "python",
   "name": "python3"
  },
  "language_info": {
   "codemirror_mode": {
    "name": "ipython",
    "version": 3
   },
   "file_extension": ".py",
   "mimetype": "text/x-python",
   "name": "python",
   "nbconvert_exporter": "python",
   "pygments_lexer": "ipython3",
   "version": "3.9.13"
  }
 },
 "nbformat": 4,
 "nbformat_minor": 5
}
